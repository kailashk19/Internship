{
 "cells": [
  {
   "cell_type": "markdown",
   "id": "f0b77e1c",
   "metadata": {},
   "source": [
    "# Q.1 scrap the data using the filters available on webpage you have to use location and salary filter.You have to scrap data\n",
    "for \"Data Scientist\" designation for first 10 job results.You have to scrap job_location,job-title,company-name,experience\n",
    "required.webpage http://www.naukri.com"
   ]
  },
  {
   "cell_type": "code",
   "execution_count": 2,
   "id": "2851a28d",
   "metadata": {},
   "outputs": [
    {
     "name": "stdout",
     "output_type": "stream",
     "text": [
      "Requirement already satisfied: selenium in c:\\users\\kailashkumar\\anaconda3\\lib\\site-packages (4.21.0)\n",
      "Requirement already satisfied: urllib3[socks]<3,>=1.26 in c:\\users\\kailashkumar\\anaconda3\\lib\\site-packages (from selenium) (1.26.16)\n",
      "Requirement already satisfied: trio~=0.17 in c:\\users\\kailashkumar\\anaconda3\\lib\\site-packages (from selenium) (0.25.1)\n",
      "Requirement already satisfied: trio-websocket~=0.9 in c:\\users\\kailashkumar\\anaconda3\\lib\\site-packages (from selenium) (0.11.1)\n",
      "Requirement already satisfied: certifi>=2021.10.8 in c:\\users\\kailashkumar\\anaconda3\\lib\\site-packages (from selenium) (2023.7.22)\n",
      "Requirement already satisfied: typing_extensions>=4.9.0 in c:\\users\\kailashkumar\\anaconda3\\lib\\site-packages (from selenium) (4.12.0)\n",
      "Requirement already satisfied: attrs>=23.2.0 in c:\\users\\kailashkumar\\anaconda3\\lib\\site-packages (from trio~=0.17->selenium) (23.2.0)\n",
      "Requirement already satisfied: sortedcontainers in c:\\users\\kailashkumar\\anaconda3\\lib\\site-packages (from trio~=0.17->selenium) (2.4.0)\n",
      "Requirement already satisfied: idna in c:\\users\\kailashkumar\\anaconda3\\lib\\site-packages (from trio~=0.17->selenium) (3.4)\n",
      "Requirement already satisfied: outcome in c:\\users\\kailashkumar\\anaconda3\\lib\\site-packages (from trio~=0.17->selenium) (1.3.0.post0)\n",
      "Requirement already satisfied: sniffio>=1.3.0 in c:\\users\\kailashkumar\\anaconda3\\lib\\site-packages (from trio~=0.17->selenium) (1.3.1)\n",
      "Requirement already satisfied: cffi>=1.14 in c:\\users\\kailashkumar\\anaconda3\\lib\\site-packages (from trio~=0.17->selenium) (1.15.1)\n",
      "Requirement already satisfied: wsproto>=0.14 in c:\\users\\kailashkumar\\anaconda3\\lib\\site-packages (from trio-websocket~=0.9->selenium) (1.2.0)\n",
      "Requirement already satisfied: PySocks!=1.5.7,<2.0,>=1.5.6 in c:\\users\\kailashkumar\\anaconda3\\lib\\site-packages (from urllib3[socks]<3,>=1.26->selenium) (1.7.1)\n",
      "Requirement already satisfied: pycparser in c:\\users\\kailashkumar\\anaconda3\\lib\\site-packages (from cffi>=1.14->trio~=0.17->selenium) (2.21)\n",
      "Requirement already satisfied: h11<1,>=0.9.0 in c:\\users\\kailashkumar\\anaconda3\\lib\\site-packages (from wsproto>=0.14->trio-websocket~=0.9->selenium) (0.14.0)\n"
     ]
    }
   ],
   "source": [
    "!pip install selenium"
   ]
  },
  {
   "cell_type": "code",
   "execution_count": 3,
   "id": "a07a0e8b",
   "metadata": {},
   "outputs": [],
   "source": [
    "import selenium\n",
    "import pandas as pd\n",
    "from selenium import webdriver\n",
    "import warnings\n",
    "warnings.filterwarnings('ignore')\n",
    "from selenium.webdriver.common.by import By \n",
    "import time"
   ]
  },
  {
   "cell_type": "code",
   "execution_count": 4,
   "id": "0ec9b50f",
   "metadata": {},
   "outputs": [],
   "source": [
    "driver = webdriver.Chrome()"
   ]
  },
  {
   "cell_type": "code",
   "execution_count": 5,
   "id": "660efa72",
   "metadata": {},
   "outputs": [],
   "source": [
    "driver.get('http://www.naukri.com/')"
   ]
  },
  {
   "cell_type": "code",
   "execution_count": 6,
   "id": "50681bca",
   "metadata": {},
   "outputs": [],
   "source": [
    "designation = driver.find_element(By.CLASS_NAME,\"suggestor-input \")\n",
    "designation.send_keys('Data Scientist')"
   ]
  },
  {
   "cell_type": "code",
   "execution_count": 7,
   "id": "c635eafd",
   "metadata": {},
   "outputs": [],
   "source": [
    "location = driver.find_element(By.XPATH,\"/html/body/div[1]/div[7]/div/div/div[5]/div/div/div/div[1]/div/input\")\n",
    "location.send_keys('Delhi/NCR')"
   ]
  },
  {
   "cell_type": "code",
   "execution_count": 8,
   "id": "982ee0fd",
   "metadata": {},
   "outputs": [],
   "source": [
    "search = driver.find_element(By.CLASS_NAME,\"qsbSubmit\")\n",
    "search.click()"
   ]
  },
  {
   "cell_type": "code",
   "execution_count": 9,
   "id": "ac891b76",
   "metadata": {},
   "outputs": [],
   "source": [
    "job_title = []\n",
    "job_location = []\n",
    "company_name = []\n",
    "experience_required = []"
   ]
  },
  {
   "cell_type": "code",
   "execution_count": 10,
   "id": "5c2811ef",
   "metadata": {},
   "outputs": [],
   "source": [
    "title_tags=driver.find_elements(By.XPATH,'//div[@class=\"cust-job-tuple layout-wrapper lay-2 sjw__tuple \"]/div/a')\n",
    "for i in title_tags:\n",
    "    title=i.text\n",
    "    job_title.append(title)\n",
    "    \n",
    "location_tags=driver.find_elements(By.XPATH,'//span[@class=\"locWdth\"]')\n",
    "for i in location_tags:\n",
    "    location=i.text\n",
    "    job_location.append(location)  \n",
    "                        \n",
    "company_tags=driver.find_elements(By.XPATH,'//div[@class=\" row2\"]/span/a[1]')\n",
    "for i in company_tags:\n",
    "    company=i.text\n",
    "    company_name.append(company)    \n",
    "                        \n",
    "    \n",
    "experience_tags=driver.find_elements(By.XPATH,'//span[@class=\"expwdth\"]')\n",
    "for i in experience_tags:\n",
    "    experience=i.text\n",
    "    experience_required.append(experience)"
   ]
  },
  {
   "cell_type": "code",
   "execution_count": 11,
   "id": "aace9700",
   "metadata": {},
   "outputs": [
    {
     "name": "stdout",
     "output_type": "stream",
     "text": [
      "20 20 20 20\n"
     ]
    }
   ],
   "source": [
    "print(len(job_title),len(job_location),len(company_name),len(experience_required))"
   ]
  },
  {
   "cell_type": "code",
   "execution_count": 12,
   "id": "8ac1d0ae",
   "metadata": {},
   "outputs": [
    {
     "data": {
      "text/html": [
       "<div>\n",
       "<style scoped>\n",
       "    .dataframe tbody tr th:only-of-type {\n",
       "        vertical-align: middle;\n",
       "    }\n",
       "\n",
       "    .dataframe tbody tr th {\n",
       "        vertical-align: top;\n",
       "    }\n",
       "\n",
       "    .dataframe thead th {\n",
       "        text-align: right;\n",
       "    }\n",
       "</style>\n",
       "<table border=\"1\" class=\"dataframe\">\n",
       "  <thead>\n",
       "    <tr style=\"text-align: right;\">\n",
       "      <th></th>\n",
       "      <th>Title</th>\n",
       "      <th>Location</th>\n",
       "      <th>Company_name</th>\n",
       "      <th>Experience</th>\n",
       "    </tr>\n",
       "  </thead>\n",
       "  <tbody>\n",
       "    <tr>\n",
       "      <th>0</th>\n",
       "      <td>DS - NLP Expert BLR HYD GGN</td>\n",
       "      <td>Hyderabad, Gurugram, Bangalore/ Bengaluru</td>\n",
       "      <td>Genpact</td>\n",
       "      <td>6-11 Yrs</td>\n",
       "    </tr>\n",
       "    <tr>\n",
       "      <th>1</th>\n",
       "      <td>GCP Data Architecture and Modeling</td>\n",
       "      <td>Noida, Hyderabad, Pune</td>\n",
       "      <td>Tata Consultancy Services (TCS)</td>\n",
       "      <td>8-13 Yrs</td>\n",
       "    </tr>\n",
       "    <tr>\n",
       "      <th>2</th>\n",
       "      <td>Data Scientist</td>\n",
       "      <td>Kolkata, Mumbai, New Delhi, Hyderabad, Pune, C...</td>\n",
       "      <td>Essenware</td>\n",
       "      <td>2-5 Yrs</td>\n",
       "    </tr>\n",
       "    <tr>\n",
       "      <th>3</th>\n",
       "      <td>Data Scientist</td>\n",
       "      <td>Kolkata, Mumbai, New Delhi, Hyderabad, Pune, C...</td>\n",
       "      <td>Essenware</td>\n",
       "      <td>2-5 Yrs</td>\n",
       "    </tr>\n",
       "    <tr>\n",
       "      <th>4</th>\n",
       "      <td>Data Science Engineer</td>\n",
       "      <td>Hybrid - Noida, Pune, Bangalore Rural, Chennai...</td>\n",
       "      <td>Futran Tech Solutions</td>\n",
       "      <td>6-9 Yrs</td>\n",
       "    </tr>\n",
       "    <tr>\n",
       "      <th>5</th>\n",
       "      <td>Sr . Data Scientist / Manager</td>\n",
       "      <td>Noida, Gurugram, Bengaluru</td>\n",
       "      <td>Novitas Infotech</td>\n",
       "      <td>7-10 Yrs</td>\n",
       "    </tr>\n",
       "    <tr>\n",
       "      <th>6</th>\n",
       "      <td>Data Scientist</td>\n",
       "      <td>Noida, Gurugram, Bengaluru</td>\n",
       "      <td>Novitas Infotech</td>\n",
       "      <td>3-7 Yrs</td>\n",
       "    </tr>\n",
       "    <tr>\n",
       "      <th>7</th>\n",
       "      <td>Associate Data Scientist</td>\n",
       "      <td>Noida</td>\n",
       "      <td>Times Internet</td>\n",
       "      <td>2-3 Yrs</td>\n",
       "    </tr>\n",
       "    <tr>\n",
       "      <th>8</th>\n",
       "      <td>Data Scientist</td>\n",
       "      <td>Kolkata, Mumbai, New Delhi, Hyderabad, Pune, C...</td>\n",
       "      <td>Response Informatics</td>\n",
       "      <td>0-5 Yrs</td>\n",
       "    </tr>\n",
       "    <tr>\n",
       "      <th>9</th>\n",
       "      <td>Data Scientist</td>\n",
       "      <td>Kolkata, Mumbai, New Delhi, Hyderabad, Pune, C...</td>\n",
       "      <td>Coders Brain Pvt Ltd</td>\n",
       "      <td>5-10 Yrs</td>\n",
       "    </tr>\n",
       "  </tbody>\n",
       "</table>\n",
       "</div>"
      ],
      "text/plain": [
       "                                Title  \\\n",
       "0         DS - NLP Expert BLR HYD GGN   \n",
       "1  GCP Data Architecture and Modeling   \n",
       "2                      Data Scientist   \n",
       "3                      Data Scientist   \n",
       "4               Data Science Engineer   \n",
       "5       Sr . Data Scientist / Manager   \n",
       "6                      Data Scientist   \n",
       "7            Associate Data Scientist   \n",
       "8                      Data Scientist   \n",
       "9                      Data Scientist   \n",
       "\n",
       "                                            Location  \\\n",
       "0          Hyderabad, Gurugram, Bangalore/ Bengaluru   \n",
       "1                             Noida, Hyderabad, Pune   \n",
       "2  Kolkata, Mumbai, New Delhi, Hyderabad, Pune, C...   \n",
       "3  Kolkata, Mumbai, New Delhi, Hyderabad, Pune, C...   \n",
       "4  Hybrid - Noida, Pune, Bangalore Rural, Chennai...   \n",
       "5                         Noida, Gurugram, Bengaluru   \n",
       "6                         Noida, Gurugram, Bengaluru   \n",
       "7                                              Noida   \n",
       "8  Kolkata, Mumbai, New Delhi, Hyderabad, Pune, C...   \n",
       "9  Kolkata, Mumbai, New Delhi, Hyderabad, Pune, C...   \n",
       "\n",
       "                      Company_name Experience  \n",
       "0                          Genpact   6-11 Yrs  \n",
       "1  Tata Consultancy Services (TCS)   8-13 Yrs  \n",
       "2                        Essenware    2-5 Yrs  \n",
       "3                        Essenware    2-5 Yrs  \n",
       "4            Futran Tech Solutions    6-9 Yrs  \n",
       "5                 Novitas Infotech   7-10 Yrs  \n",
       "6                 Novitas Infotech    3-7 Yrs  \n",
       "7                   Times Internet    2-3 Yrs  \n",
       "8             Response Informatics    0-5 Yrs  \n",
       "9             Coders Brain Pvt Ltd   5-10 Yrs  "
      ]
     },
     "execution_count": 12,
     "metadata": {},
     "output_type": "execute_result"
    }
   ],
   "source": [
    "import pandas as pd\n",
    "df=pd.DataFrame({'Title':job_title[0:10],\n",
    "                 'Location':job_location[0:10],\n",
    "                 'Company_name':company_name[0:10],\n",
    "                 'Experience':experience_required[0:10]})\n",
    "df"
   ]
  },
  {
   "cell_type": "markdown",
   "id": "7592883d",
   "metadata": {},
   "source": [
    "# Q.2 write a python program to scrap data for \"Data Scientist\" job position in \"Banglore\" location.You have to scrap the job_title,\n",
    "job-location,company_name,experience_required.You have to scrap first 10 jobs data.webpage http://www.shine.com/"
   ]
  },
  {
   "cell_type": "code",
   "execution_count": 13,
   "id": "ebdd97c6",
   "metadata": {},
   "outputs": [
    {
     "name": "stdout",
     "output_type": "stream",
     "text": [
      "Requirement already satisfied: selenium in c:\\users\\kailashkumar\\anaconda3\\lib\\site-packages (4.21.0)\n",
      "Requirement already satisfied: urllib3[socks]<3,>=1.26 in c:\\users\\kailashkumar\\anaconda3\\lib\\site-packages (from selenium) (1.26.16)\n",
      "Requirement already satisfied: trio~=0.17 in c:\\users\\kailashkumar\\anaconda3\\lib\\site-packages (from selenium) (0.25.1)\n",
      "Requirement already satisfied: trio-websocket~=0.9 in c:\\users\\kailashkumar\\anaconda3\\lib\\site-packages (from selenium) (0.11.1)\n",
      "Requirement already satisfied: certifi>=2021.10.8 in c:\\users\\kailashkumar\\anaconda3\\lib\\site-packages (from selenium) (2023.7.22)\n",
      "Requirement already satisfied: typing_extensions>=4.9.0 in c:\\users\\kailashkumar\\anaconda3\\lib\\site-packages (from selenium) (4.12.0)\n",
      "Requirement already satisfied: attrs>=23.2.0 in c:\\users\\kailashkumar\\anaconda3\\lib\\site-packages (from trio~=0.17->selenium) (23.2.0)\n",
      "Requirement already satisfied: sortedcontainers in c:\\users\\kailashkumar\\anaconda3\\lib\\site-packages (from trio~=0.17->selenium) (2.4.0)\n",
      "Requirement already satisfied: idna in c:\\users\\kailashkumar\\anaconda3\\lib\\site-packages (from trio~=0.17->selenium) (3.4)\n",
      "Requirement already satisfied: outcome in c:\\users\\kailashkumar\\anaconda3\\lib\\site-packages (from trio~=0.17->selenium) (1.3.0.post0)\n",
      "Requirement already satisfied: sniffio>=1.3.0 in c:\\users\\kailashkumar\\anaconda3\\lib\\site-packages (from trio~=0.17->selenium) (1.3.1)\n",
      "Requirement already satisfied: cffi>=1.14 in c:\\users\\kailashkumar\\anaconda3\\lib\\site-packages (from trio~=0.17->selenium) (1.15.1)\n",
      "Requirement already satisfied: wsproto>=0.14 in c:\\users\\kailashkumar\\anaconda3\\lib\\site-packages (from trio-websocket~=0.9->selenium) (1.2.0)\n",
      "Requirement already satisfied: PySocks!=1.5.7,<2.0,>=1.5.6 in c:\\users\\kailashkumar\\anaconda3\\lib\\site-packages (from urllib3[socks]<3,>=1.26->selenium) (1.7.1)\n",
      "Requirement already satisfied: pycparser in c:\\users\\kailashkumar\\anaconda3\\lib\\site-packages (from cffi>=1.14->trio~=0.17->selenium) (2.21)\n",
      "Requirement already satisfied: h11<1,>=0.9.0 in c:\\users\\kailashkumar\\anaconda3\\lib\\site-packages (from wsproto>=0.14->trio-websocket~=0.9->selenium) (0.14.0)\n"
     ]
    }
   ],
   "source": [
    "!pip install selenium"
   ]
  },
  {
   "cell_type": "code",
   "execution_count": 14,
   "id": "83113d6e",
   "metadata": {},
   "outputs": [],
   "source": [
    "import selenium\n",
    "import pandas as pd\n",
    "from selenium import webdriver\n",
    "import warnings\n",
    "warnings.filterwarnings('ignore')\n",
    "from selenium.webdriver.common.by import By \n",
    "import time"
   ]
  },
  {
   "cell_type": "code",
   "execution_count": 15,
   "id": "609ffaeb",
   "metadata": {},
   "outputs": [],
   "source": [
    "driver = webdriver.Chrome()"
   ]
  },
  {
   "cell_type": "code",
   "execution_count": 16,
   "id": "18923a5c",
   "metadata": {},
   "outputs": [],
   "source": [
    "driver.get('http://www.shine.com/')"
   ]
  },
  {
   "cell_type": "code",
   "execution_count": 17,
   "id": "2cfd816a",
   "metadata": {},
   "outputs": [],
   "source": [
    "designation = driver.find_element(By.CLASS_NAME,\"input\")\n",
    "designation.send_keys('Data Analyst')"
   ]
  },
  {
   "cell_type": "code",
   "execution_count": 19,
   "id": "a4841010",
   "metadata": {},
   "outputs": [],
   "source": [
    "location = driver.find_element(By.XPATH,\"/html/body/div/div[4]/div/div[2]/div[2]/div/form/div/div[1]/ul/li[2]/div/input\")\n",
    "location.send_keys('Banglore')"
   ]
  },
  {
   "cell_type": "code",
   "execution_count": 20,
   "id": "9591e3fc",
   "metadata": {},
   "outputs": [],
   "source": [
    "search = driver.find_element(By.CLASS_NAME,\"btn\")"
   ]
  },
  {
   "cell_type": "code",
   "execution_count": 35,
   "id": "eb14f34d",
   "metadata": {},
   "outputs": [],
   "source": [
    "job_title = []\n",
    "job_location = []\n",
    "company_name = []\n",
    "experience_required = []"
   ]
  },
  {
   "cell_type": "code",
   "execution_count": 57,
   "id": "69d981b4",
   "metadata": {},
   "outputs": [],
   "source": [
    "title_tags=driver.find_elements(By.XPATH,'//p[@class=\"JobDetailWidget_jobCard_jobTitle__Ppemk font-size-24\"]')\n",
    "for i in title_tags:\n",
    "    title=i.text\n",
    "    job_title.append(title)\n",
    "    \n",
    "location_tags=driver.find_elements(By.XPATH,'//div[@class=\"JobDetailWidget_jobCard_lists__3HvvF\"]')\n",
    "for i in location_tags:\n",
    "    location=i.text\n",
    "    job_location.append(location)  \n",
    "                        \n",
    "company_tags=driver.find_elements(By.XPATH,'//div[@class=\"JobDetailWidget_jobCard_cName__qvsdW\"]/span')\n",
    "for i in company_tags:\n",
    "    company=i.text\n",
    "    company_name.append(company)    \n",
    "                        \n",
    "    \n",
    "experience_tags=driver.find_elements(By.XPATH,'//div[@class=\"JobDetailWidget_jobCard_lists_item__w6Yow JobDetailWidget_jobIcon__mjaNB undefined\"]')\n",
    "for i in experience_tags:\n",
    "    experience=i.text\n",
    "    experience_required.append(experience)   \n",
    "   "
   ]
  },
  {
   "cell_type": "code",
   "execution_count": 58,
   "id": "d065fa52",
   "metadata": {},
   "outputs": [
    {
     "name": "stdout",
     "output_type": "stream",
     "text": [
      "10 10 10 10\n"
     ]
    }
   ],
   "source": [
    "print(len(job_title),len(job_location),len(company_name),len(experience_required))"
   ]
  },
  {
   "cell_type": "code",
   "execution_count": 59,
   "id": "1372ebd3",
   "metadata": {},
   "outputs": [
    {
     "data": {
      "text/html": [
       "<div>\n",
       "<style scoped>\n",
       "    .dataframe tbody tr th:only-of-type {\n",
       "        vertical-align: middle;\n",
       "    }\n",
       "\n",
       "    .dataframe tbody tr th {\n",
       "        vertical-align: top;\n",
       "    }\n",
       "\n",
       "    .dataframe thead th {\n",
       "        text-align: right;\n",
       "    }\n",
       "</style>\n",
       "<table border=\"1\" class=\"dataframe\">\n",
       "  <thead>\n",
       "    <tr style=\"text-align: right;\">\n",
       "      <th></th>\n",
       "      <th>Title</th>\n",
       "      <th>Location</th>\n",
       "      <th>Company_name</th>\n",
       "      <th>Experience</th>\n",
       "    </tr>\n",
       "  </thead>\n",
       "  <tbody>\n",
       "    <tr>\n",
       "      <th>0</th>\n",
       "      <td>Data Analyst , Senior Data Analyst , Data Anal...</td>\n",
       "      <td>Bangalore\\n+8\\n0 to 4 Yrs\\nRs 3.0 - 5 Lakh/Yr</td>\n",
       "      <td>AppSoft Solutions</td>\n",
       "      <td>0 to 4 Yrs</td>\n",
       "    </tr>\n",
       "    <tr>\n",
       "      <th>1</th>\n",
       "      <td>Data Analyst , Senior Data Analyst , Data Anal...</td>\n",
       "      <td>Bangalore\\n+8\\n0 to 4 Yrs\\nRs 3.0 - 5 Lakh/Yr</td>\n",
       "      <td>AppSoft Solutions</td>\n",
       "      <td>0 to 4 Yrs</td>\n",
       "    </tr>\n",
       "    <tr>\n",
       "      <th>2</th>\n",
       "      <td>Data Analyst , Senior Data Analyst , Data Anal...</td>\n",
       "      <td>Bangalore\\n+8\\n0 to 4 Yrs\\nRs 3.0 - 5 Lakh/Yr</td>\n",
       "      <td>AppSoft Solutions</td>\n",
       "      <td>0 to 4 Yrs</td>\n",
       "    </tr>\n",
       "    <tr>\n",
       "      <th>3</th>\n",
       "      <td>Data Analyst , Senior Data Analyst , Data Anal...</td>\n",
       "      <td>Bangalore\\n+8\\n0 to 4 Yrs\\nRs 3.0 - 5 Lakh/Yr</td>\n",
       "      <td>AppSoft Solutions</td>\n",
       "      <td>0 to 4 Yrs</td>\n",
       "    </tr>\n",
       "    <tr>\n",
       "      <th>4</th>\n",
       "      <td>Data Analyst , Senior Data Analyst , Data Anal...</td>\n",
       "      <td>Bangalore\\n+8\\n0 to 4 Yrs\\nRs 3.0 - 5 Lakh/Yr</td>\n",
       "      <td>AppSoft Solutions</td>\n",
       "      <td>0 to 4 Yrs</td>\n",
       "    </tr>\n",
       "    <tr>\n",
       "      <th>5</th>\n",
       "      <td>Data Analyst , Senior Data Analyst , Data Anal...</td>\n",
       "      <td>Bangalore\\n+8\\n0 to 4 Yrs\\nRs 3.0 - 5 Lakh/Yr</td>\n",
       "      <td>AppSoft Solutions</td>\n",
       "      <td>0 to 4 Yrs</td>\n",
       "    </tr>\n",
       "    <tr>\n",
       "      <th>6</th>\n",
       "      <td>Data Analyst , Senior Data Analyst , Data Anal...</td>\n",
       "      <td>Bangalore\\n+8\\n0 to 4 Yrs\\nRs 3.0 - 5 Lakh/Yr</td>\n",
       "      <td>AppSoft Solutions</td>\n",
       "      <td>0 to 4 Yrs</td>\n",
       "    </tr>\n",
       "    <tr>\n",
       "      <th>7</th>\n",
       "      <td>Data Analyst , Senior Data Analyst , Data Anal...</td>\n",
       "      <td>Bangalore\\n+8\\n0 to 4 Yrs\\nRs 3.0 - 5 Lakh/Yr</td>\n",
       "      <td>AppSoft Solutions</td>\n",
       "      <td>0 to 4 Yrs</td>\n",
       "    </tr>\n",
       "    <tr>\n",
       "      <th>8</th>\n",
       "      <td>Data Analyst , Senior Data Analyst , Data Anal...</td>\n",
       "      <td>Bangalore\\n+8\\n0 to 4 Yrs\\nRs 3.0 - 5 Lakh/Yr</td>\n",
       "      <td>AppSoft Solutions</td>\n",
       "      <td>0 to 4 Yrs</td>\n",
       "    </tr>\n",
       "    <tr>\n",
       "      <th>9</th>\n",
       "      <td>Data Analyst , Senior Data Analyst , Data Anal...</td>\n",
       "      <td>Bangalore\\n+8\\n0 to 4 Yrs\\nRs 3.0 - 5 Lakh/Yr</td>\n",
       "      <td>AppSoft Solutions</td>\n",
       "      <td>0 to 4 Yrs</td>\n",
       "    </tr>\n",
       "  </tbody>\n",
       "</table>\n",
       "</div>"
      ],
      "text/plain": [
       "                                               Title  \\\n",
       "0  Data Analyst , Senior Data Analyst , Data Anal...   \n",
       "1  Data Analyst , Senior Data Analyst , Data Anal...   \n",
       "2  Data Analyst , Senior Data Analyst , Data Anal...   \n",
       "3  Data Analyst , Senior Data Analyst , Data Anal...   \n",
       "4  Data Analyst , Senior Data Analyst , Data Anal...   \n",
       "5  Data Analyst , Senior Data Analyst , Data Anal...   \n",
       "6  Data Analyst , Senior Data Analyst , Data Anal...   \n",
       "7  Data Analyst , Senior Data Analyst , Data Anal...   \n",
       "8  Data Analyst , Senior Data Analyst , Data Anal...   \n",
       "9  Data Analyst , Senior Data Analyst , Data Anal...   \n",
       "\n",
       "                                        Location       Company_name  \\\n",
       "0  Bangalore\\n+8\\n0 to 4 Yrs\\nRs 3.0 - 5 Lakh/Yr  AppSoft Solutions   \n",
       "1  Bangalore\\n+8\\n0 to 4 Yrs\\nRs 3.0 - 5 Lakh/Yr  AppSoft Solutions   \n",
       "2  Bangalore\\n+8\\n0 to 4 Yrs\\nRs 3.0 - 5 Lakh/Yr  AppSoft Solutions   \n",
       "3  Bangalore\\n+8\\n0 to 4 Yrs\\nRs 3.0 - 5 Lakh/Yr  AppSoft Solutions   \n",
       "4  Bangalore\\n+8\\n0 to 4 Yrs\\nRs 3.0 - 5 Lakh/Yr  AppSoft Solutions   \n",
       "5  Bangalore\\n+8\\n0 to 4 Yrs\\nRs 3.0 - 5 Lakh/Yr  AppSoft Solutions   \n",
       "6  Bangalore\\n+8\\n0 to 4 Yrs\\nRs 3.0 - 5 Lakh/Yr  AppSoft Solutions   \n",
       "7  Bangalore\\n+8\\n0 to 4 Yrs\\nRs 3.0 - 5 Lakh/Yr  AppSoft Solutions   \n",
       "8  Bangalore\\n+8\\n0 to 4 Yrs\\nRs 3.0 - 5 Lakh/Yr  AppSoft Solutions   \n",
       "9  Bangalore\\n+8\\n0 to 4 Yrs\\nRs 3.0 - 5 Lakh/Yr  AppSoft Solutions   \n",
       "\n",
       "   Experience  \n",
       "0  0 to 4 Yrs  \n",
       "1  0 to 4 Yrs  \n",
       "2  0 to 4 Yrs  \n",
       "3  0 to 4 Yrs  \n",
       "4  0 to 4 Yrs  \n",
       "5  0 to 4 Yrs  \n",
       "6  0 to 4 Yrs  \n",
       "7  0 to 4 Yrs  \n",
       "8  0 to 4 Yrs  \n",
       "9  0 to 4 Yrs  "
      ]
     },
     "execution_count": 59,
     "metadata": {},
     "output_type": "execute_result"
    }
   ],
   "source": [
    "import pandas as pd\n",
    "df=pd.DataFrame({'Title':job_title[0:10],\n",
    "                 'Location':job_location[0:10],\n",
    "                 'Company_name':company_name[0:10],\n",
    "                 'Experience':experience_required[0:10]})\n",
    "df"
   ]
  },
  {
   "cell_type": "markdown",
   "id": "c56bffda",
   "metadata": {},
   "source": [
    "# Q.3 Scrap 100 reviews data from flipkart.com for iphone11phone.You have to go link:\n",
    "https://www.flipkart.com/apple-iphone-11-black-64-gb/product-\n",
    "reviews/itm4e5041ba101fd?pid=MOBFWQ6BXGJCEYNY&lid=LSTMOBFWQ6BXGJCEYNYZXSHRJ&marketplace=FLIPKART"
   ]
  },
  {
   "cell_type": "code",
   "execution_count": 60,
   "id": "dfba2419",
   "metadata": {},
   "outputs": [
    {
     "name": "stdout",
     "output_type": "stream",
     "text": [
      "Requirement already satisfied: selenium in c:\\users\\kailashkumar\\anaconda3\\lib\\site-packages (4.21.0)\n",
      "Requirement already satisfied: urllib3[socks]<3,>=1.26 in c:\\users\\kailashkumar\\anaconda3\\lib\\site-packages (from selenium) (1.26.16)\n",
      "Requirement already satisfied: trio~=0.17 in c:\\users\\kailashkumar\\anaconda3\\lib\\site-packages (from selenium) (0.25.1)\n",
      "Requirement already satisfied: trio-websocket~=0.9 in c:\\users\\kailashkumar\\anaconda3\\lib\\site-packages (from selenium) (0.11.1)\n",
      "Requirement already satisfied: certifi>=2021.10.8 in c:\\users\\kailashkumar\\anaconda3\\lib\\site-packages (from selenium) (2023.7.22)\n",
      "Requirement already satisfied: typing_extensions>=4.9.0 in c:\\users\\kailashkumar\\anaconda3\\lib\\site-packages (from selenium) (4.12.0)\n",
      "Requirement already satisfied: attrs>=23.2.0 in c:\\users\\kailashkumar\\anaconda3\\lib\\site-packages (from trio~=0.17->selenium) (23.2.0)\n",
      "Requirement already satisfied: sortedcontainers in c:\\users\\kailashkumar\\anaconda3\\lib\\site-packages (from trio~=0.17->selenium) (2.4.0)\n",
      "Requirement already satisfied: idna in c:\\users\\kailashkumar\\anaconda3\\lib\\site-packages (from trio~=0.17->selenium) (3.4)\n",
      "Requirement already satisfied: outcome in c:\\users\\kailashkumar\\anaconda3\\lib\\site-packages (from trio~=0.17->selenium) (1.3.0.post0)\n",
      "Requirement already satisfied: sniffio>=1.3.0 in c:\\users\\kailashkumar\\anaconda3\\lib\\site-packages (from trio~=0.17->selenium) (1.3.1)\n",
      "Requirement already satisfied: cffi>=1.14 in c:\\users\\kailashkumar\\anaconda3\\lib\\site-packages (from trio~=0.17->selenium) (1.15.1)\n",
      "Requirement already satisfied: wsproto>=0.14 in c:\\users\\kailashkumar\\anaconda3\\lib\\site-packages (from trio-websocket~=0.9->selenium) (1.2.0)\n",
      "Requirement already satisfied: PySocks!=1.5.7,<2.0,>=1.5.6 in c:\\users\\kailashkumar\\anaconda3\\lib\\site-packages (from urllib3[socks]<3,>=1.26->selenium) (1.7.1)\n",
      "Requirement already satisfied: pycparser in c:\\users\\kailashkumar\\anaconda3\\lib\\site-packages (from cffi>=1.14->trio~=0.17->selenium) (2.21)\n",
      "Requirement already satisfied: h11<1,>=0.9.0 in c:\\users\\kailashkumar\\anaconda3\\lib\\site-packages (from wsproto>=0.14->trio-websocket~=0.9->selenium) (0.14.0)\n"
     ]
    }
   ],
   "source": [
    "!pip install selenium"
   ]
  },
  {
   "cell_type": "code",
   "execution_count": 61,
   "id": "fecaf2cc",
   "metadata": {},
   "outputs": [],
   "source": [
    "import pandas as pd\n",
    "from selenium import webdriver\n",
    "import warnings\n",
    "warnings.filterwarnings('ignore')\n",
    "from selenium.webdriver.common.by import By\n",
    "import time"
   ]
  },
  {
   "cell_type": "code",
   "execution_count": 62,
   "id": "71990b1b",
   "metadata": {},
   "outputs": [],
   "source": [
    "driver = webdriver.Chrome()"
   ]
  },
  {
   "cell_type": "code",
   "execution_count": 63,
   "id": "cd1cc24a",
   "metadata": {},
   "outputs": [],
   "source": [
    "driver.get('https://www.flipkart.com/apple-iphone-11-black-64-gb/product-reviews/itm4e5041ba101fd?pid=MOBFWQ6BXGJCEYNY&lid=LSTMOBFWQ6BXGJCEYNYZXSHRJ&marketplace=FLIPKART')"
   ]
  },
  {
   "cell_type": "code",
   "execution_count": 64,
   "id": "34e262d5",
   "metadata": {},
   "outputs": [],
   "source": [
    "Rating=[]\n",
    "Review_summary=[]\n",
    "Full_review=[]"
   ]
  },
  {
   "cell_type": "code",
   "execution_count": 65,
   "id": "3e8db95a",
   "metadata": {},
   "outputs": [],
   "source": [
    "next_button=driver.find_element(By.XPATH,'/html/body/div/div/div[3]/div/div/div[2]/div[13]/div/div/nav/a[11]/span')\n",
    "next_button.click()"
   ]
  },
  {
   "cell_type": "code",
   "execution_count": 66,
   "id": "1aec35fa",
   "metadata": {},
   "outputs": [],
   "source": [
    "search_button=driver.find_element(By.XPATH ,'//button[@class=\"MJG8Up\"]')\n",
    "search_button.click()"
   ]
  },
  {
   "cell_type": "code",
   "execution_count": 67,
   "id": "2ee84e8f",
   "metadata": {},
   "outputs": [],
   "source": [
    "search_button=driver.find_element(By.XPATH ,'//button[@class=\"MJG8Up\"]')\n",
    "search_button.click()"
   ]
  },
  {
   "cell_type": "code",
   "execution_count": 73,
   "id": "4750fe7d",
   "metadata": {},
   "outputs": [
    {
     "data": {
      "text/plain": [
       "['5', '5', '5', '5']"
      ]
     },
     "execution_count": 73,
     "metadata": {},
     "output_type": "execute_result"
    }
   ],
   "source": [
    "rating_tags=driver.find_elements(By.XPATH,'//div[@class=\"XQDdHH Ga3i8K\"]')\n",
    "for i in rating_tags:\n",
    "    rat=i.text\n",
    "    Rating.append(rat)\n",
    "Rating[0:4]"
   ]
  },
  {
   "cell_type": "code",
   "execution_count": 74,
   "id": "f39eca67",
   "metadata": {},
   "outputs": [
    {
     "data": {
      "text/plain": [
       "['Terrific purchase', 'Perfect product!', 'Fabulous!', 'Super!']"
      ]
     },
     "execution_count": 74,
     "metadata": {},
     "output_type": "execute_result"
    }
   ],
   "source": [
    "Review=driver.find_elements(By.XPATH,'//p[@class=\"z9E0IG\"]')\n",
    "for i in Review:\n",
    "    rew=i.text\n",
    "    Review_summary.append(rew)\n",
    "Review_summary[0:4]  "
   ]
  },
  {
   "cell_type": "code",
   "execution_count": 71,
   "id": "9c86d8ed",
   "metadata": {},
   "outputs": [
    {
     "data": {
      "text/plain": [
       "['Value for money 🖤🖤',\n",
       " 'Photos super',\n",
       " 'It’s very good battery life and display and video quality and ther performance of iPhone.....🔥🔥🌈',\n",
       " 'Good product 👌I love iPhone']"
      ]
     },
     "execution_count": 71,
     "metadata": {},
     "output_type": "execute_result"
    }
   ],
   "source": [
    "Full_review_tags=driver.find_elements(By.XPATH,'//div[@class=\"ZmyHeo\"]')\n",
    "for i in Full_review_tags:\n",
    "    full=i.text\n",
    "    Full_review.append(full)\n",
    "Full_review[0:4] "
   ]
  },
  {
   "cell_type": "code",
   "execution_count": 75,
   "id": "a69dae89",
   "metadata": {},
   "outputs": [
    {
     "name": "stdout",
     "output_type": "stream",
     "text": [
      "20 20 20\n"
     ]
    }
   ],
   "source": [
    "print(len(Rating),len(Review_summary),len(Full_review))"
   ]
  },
  {
   "cell_type": "code",
   "execution_count": 76,
   "id": "b5c3759b",
   "metadata": {},
   "outputs": [
    {
     "data": {
      "text/plain": [
       "{'Rating': ['5',\n",
       "  '5',\n",
       "  '5',\n",
       "  '5',\n",
       "  '5',\n",
       "  '5',\n",
       "  '5',\n",
       "  '5',\n",
       "  '5',\n",
       "  '5',\n",
       "  '5',\n",
       "  '5',\n",
       "  '5',\n",
       "  '5',\n",
       "  '5',\n",
       "  '5',\n",
       "  '5',\n",
       "  '5',\n",
       "  '5',\n",
       "  '5'],\n",
       " 'Review_summary': ['Terrific purchase',\n",
       "  'Perfect product!',\n",
       "  'Fabulous!',\n",
       "  'Super!',\n",
       "  'Perfect product!',\n",
       "  'Highly recommended',\n",
       "  'Brilliant',\n",
       "  'Must buy!',\n",
       "  'Best in the market!',\n",
       "  'Excellent',\n",
       "  'Terrific purchase',\n",
       "  'Perfect product!',\n",
       "  'Fabulous!',\n",
       "  'Super!',\n",
       "  'Perfect product!',\n",
       "  'Highly recommended',\n",
       "  'Brilliant',\n",
       "  'Must buy!',\n",
       "  'Best in the market!',\n",
       "  'Excellent'],\n",
       " 'Full_review': ['Value for money 🖤🖤',\n",
       "  'Photos super',\n",
       "  'It’s very good battery life and display and video quality and ther performance of iPhone.....🔥🔥🌈',\n",
       "  'Good product 👌I love iPhone',\n",
       "  'V Good all',\n",
       "  'Awesome Battery Life...Camera clarity is too good..\\nValue for money...Its gives full day battery backup in single charge...',\n",
       "  'Excellent Phone.',\n",
       "  'Go for iPhone 11 , if confused between iPhone 11 or iPhone 12 mini.Battery Life is enhanced , it worked for complete 2 days without charging it. Explored new features of taking screenshot by clicking on apple logo by Haptic Touch , Portrait mode with stage effect enhanced & slow motion selfie.',\n",
       "  'Superbb performance n camera is awesome 😍😍',\n",
       "  'NYC',\n",
       "  'Value for money 🖤🖤',\n",
       "  'Photos super',\n",
       "  'It’s very good battery life and display and video quality and ther performance of iPhone.....🔥🔥🌈',\n",
       "  'Good product 👌I love iPhone',\n",
       "  'V Good all',\n",
       "  'Awesome Battery Life...Camera clarity is too good..\\nValue for money...Its gives full day battery backup in single charge...',\n",
       "  'Excellent Phone.',\n",
       "  'Go for iPhone 11 , if confused between iPhone 11 or iPhone 12 mini.Battery Life is enhanced , it worked for complete 2 days without charging it. Explored new features of taking screenshot by clicking on apple logo by Haptic Touch , Portrait mode with stage effect enhanced & slow motion selfie.',\n",
       "  'Superbb performance n camera is awesome 😍😍',\n",
       "  'NYC']}"
      ]
     },
     "execution_count": 76,
     "metadata": {},
     "output_type": "execute_result"
    }
   ],
   "source": [
    "iphone_df=pd.DataFrame=({})\n",
    "iphone_df['Rating']=Rating\n",
    "iphone_df['Review_summary']=Review_summary\n",
    "iphone_df['Full_review']=Full_review\n",
    "iphone_df"
   ]
  },
  {
   "cell_type": "markdown",
   "id": "5e6b9f45",
   "metadata": {},
   "source": [
    "# Q.4 Scrap data for first 100 sneakers you find when you visit flipkart.com and search for \"Sneakers\" in the search field. You have to scrap 3 attributes of each sneakers:Brand,ProductDescription,Price. "
   ]
  },
  {
   "cell_type": "code",
   "execution_count": 1,
   "id": "9eb18a2f",
   "metadata": {},
   "outputs": [
    {
     "name": "stdout",
     "output_type": "stream",
     "text": [
      "Requirement already satisfied: selenium in c:\\users\\kailashkumar\\anaconda3\\lib\\site-packages (4.21.0)\n",
      "Requirement already satisfied: urllib3[socks]<3,>=1.26 in c:\\users\\kailashkumar\\anaconda3\\lib\\site-packages (from selenium) (1.26.16)\n",
      "Requirement already satisfied: trio~=0.17 in c:\\users\\kailashkumar\\anaconda3\\lib\\site-packages (from selenium) (0.25.1)\n",
      "Requirement already satisfied: trio-websocket~=0.9 in c:\\users\\kailashkumar\\anaconda3\\lib\\site-packages (from selenium) (0.11.1)\n",
      "Requirement already satisfied: certifi>=2021.10.8 in c:\\users\\kailashkumar\\anaconda3\\lib\\site-packages (from selenium) (2023.7.22)\n",
      "Requirement already satisfied: typing_extensions>=4.9.0 in c:\\users\\kailashkumar\\anaconda3\\lib\\site-packages (from selenium) (4.12.0)\n",
      "Requirement already satisfied: attrs>=23.2.0 in c:\\users\\kailashkumar\\anaconda3\\lib\\site-packages (from trio~=0.17->selenium) (23.2.0)\n",
      "Requirement already satisfied: sortedcontainers in c:\\users\\kailashkumar\\anaconda3\\lib\\site-packages (from trio~=0.17->selenium) (2.4.0)\n",
      "Requirement already satisfied: idna in c:\\users\\kailashkumar\\anaconda3\\lib\\site-packages (from trio~=0.17->selenium) (3.4)\n",
      "Requirement already satisfied: outcome in c:\\users\\kailashkumar\\anaconda3\\lib\\site-packages (from trio~=0.17->selenium) (1.3.0.post0)\n",
      "Requirement already satisfied: sniffio>=1.3.0 in c:\\users\\kailashkumar\\anaconda3\\lib\\site-packages (from trio~=0.17->selenium) (1.3.1)\n",
      "Requirement already satisfied: cffi>=1.14 in c:\\users\\kailashkumar\\anaconda3\\lib\\site-packages (from trio~=0.17->selenium) (1.15.1)\n",
      "Requirement already satisfied: wsproto>=0.14 in c:\\users\\kailashkumar\\anaconda3\\lib\\site-packages (from trio-websocket~=0.9->selenium) (1.2.0)\n",
      "Requirement already satisfied: PySocks!=1.5.7,<2.0,>=1.5.6 in c:\\users\\kailashkumar\\anaconda3\\lib\\site-packages (from urllib3[socks]<3,>=1.26->selenium) (1.7.1)\n",
      "Requirement already satisfied: pycparser in c:\\users\\kailashkumar\\anaconda3\\lib\\site-packages (from cffi>=1.14->trio~=0.17->selenium) (2.21)\n",
      "Requirement already satisfied: h11<1,>=0.9.0 in c:\\users\\kailashkumar\\anaconda3\\lib\\site-packages (from wsproto>=0.14->trio-websocket~=0.9->selenium) (0.14.0)\n"
     ]
    }
   ],
   "source": [
    "!pip install selenium"
   ]
  },
  {
   "cell_type": "code",
   "execution_count": 2,
   "id": "9f343d13",
   "metadata": {},
   "outputs": [],
   "source": [
    "import selenium\n",
    "import pandas as pd\n",
    "from selenium import webdriver\n",
    "import warnings\n",
    "warnings.filterwarnings('ignore')\n",
    "from selenium.webdriver.common.by import By\n",
    "import time"
   ]
  },
  {
   "cell_type": "code",
   "execution_count": 3,
   "id": "6d472014",
   "metadata": {},
   "outputs": [],
   "source": [
    "driver=webdriver.Chrome()"
   ]
  },
  {
   "cell_type": "code",
   "execution_count": 4,
   "id": "5ba81030",
   "metadata": {},
   "outputs": [],
   "source": [
    "driver.get('http://www.flipkart.com/')"
   ]
  },
  {
   "cell_type": "code",
   "execution_count": 5,
   "id": "aee45cd9",
   "metadata": {},
   "outputs": [],
   "source": [
    "search_bar = driver.find_element(By.CLASS_NAME,\"Pke_EE\")\n",
    "search_bar.send_keys('Sneakers')"
   ]
  },
  {
   "cell_type": "code",
   "execution_count": 6,
   "id": "cb11e0a6",
   "metadata": {},
   "outputs": [],
   "source": [
    "search_button=driver.find_element(By.XPATH ,'//button[@class=\"_2iLD__\"]')\n",
    "search_button.click()"
   ]
  },
  {
   "cell_type": "code",
   "execution_count": 7,
   "id": "b4216ae8",
   "metadata": {},
   "outputs": [],
   "source": [
    "Brand=[]\n",
    "Product_name=[]\n",
    "Price=[]"
   ]
  },
  {
   "cell_type": "code",
   "execution_count": 8,
   "id": "cdbe8d41",
   "metadata": {},
   "outputs": [],
   "source": [
    "brand_name=driver.find_elements(By.XPATH,'//div[@class=\"syl9yP\"]')\n",
    "for i in brand_name:\n",
    "    brand=i.text\n",
    "    Brand.append(brand)\n",
    "\n",
    "Product_Description=driver.find_elements(By.XPATH,'//a[@class=\"WKTcLC\"]')\n",
    "for i in Product_Description:\n",
    "    Pro=i.text\n",
    "    Product_name.append(Pro)\n",
    "    \n",
    "Price_tags=driver.find_elements(By.XPATH,'//div[@class=\"Nx9bqj\"]')\n",
    "for i in Price_tags:\n",
    "    Pri=i.text\n",
    "    Price.append(i.text)    "
   ]
  },
  {
   "cell_type": "code",
   "execution_count": 9,
   "id": "fa9d0e26",
   "metadata": {},
   "outputs": [
    {
     "name": "stdout",
     "output_type": "stream",
     "text": [
      "40 33 39\n"
     ]
    }
   ],
   "source": [
    "print(len(Brand),len(Product_name),len(Price))"
   ]
  },
  {
   "cell_type": "code",
   "execution_count": 10,
   "id": "b11b89d7",
   "metadata": {},
   "outputs": [
    {
     "ename": "ValueError",
     "evalue": "Length of values (33) does not match length of index (40)",
     "output_type": "error",
     "traceback": [
      "\u001b[1;31m---------------------------------------------------------------------------\u001b[0m",
      "\u001b[1;31mValueError\u001b[0m                                Traceback (most recent call last)",
      "Cell \u001b[1;32mIn[10], line 3\u001b[0m\n\u001b[0;32m      1\u001b[0m Sneakers_df\u001b[38;5;241m=\u001b[39mpd\u001b[38;5;241m.\u001b[39mDataFrame({})\n\u001b[0;32m      2\u001b[0m Sneakers_df[\u001b[38;5;124m'\u001b[39m\u001b[38;5;124mBrand\u001b[39m\u001b[38;5;124m'\u001b[39m]\u001b[38;5;241m=\u001b[39m Brand[\u001b[38;5;241m0\u001b[39m:\u001b[38;5;241m100\u001b[39m]\n\u001b[1;32m----> 3\u001b[0m Sneakers_df[\u001b[38;5;124m'\u001b[39m\u001b[38;5;124mProduct_name\u001b[39m\u001b[38;5;124m'\u001b[39m]\u001b[38;5;241m=\u001b[39mProduct_name[\u001b[38;5;241m0\u001b[39m:\u001b[38;5;241m100\u001b[39m]\n\u001b[0;32m      4\u001b[0m Sneakers_df[\u001b[38;5;124m'\u001b[39m\u001b[38;5;124mPrice\u001b[39m\u001b[38;5;124m'\u001b[39m]\u001b[38;5;241m=\u001b[39m Price[\u001b[38;5;241m0\u001b[39m:\u001b[38;5;241m100\u001b[39m]\n\u001b[0;32m      5\u001b[0m Sneakers_df\n",
      "File \u001b[1;32m~\\anaconda3\\Lib\\site-packages\\pandas\\core\\frame.py:3950\u001b[0m, in \u001b[0;36mDataFrame.__setitem__\u001b[1;34m(self, key, value)\u001b[0m\n\u001b[0;32m   3947\u001b[0m     \u001b[38;5;28mself\u001b[39m\u001b[38;5;241m.\u001b[39m_setitem_array([key], value)\n\u001b[0;32m   3948\u001b[0m \u001b[38;5;28;01melse\u001b[39;00m:\n\u001b[0;32m   3949\u001b[0m     \u001b[38;5;66;03m# set column\u001b[39;00m\n\u001b[1;32m-> 3950\u001b[0m     \u001b[38;5;28mself\u001b[39m\u001b[38;5;241m.\u001b[39m_set_item(key, value)\n",
      "File \u001b[1;32m~\\anaconda3\\Lib\\site-packages\\pandas\\core\\frame.py:4143\u001b[0m, in \u001b[0;36mDataFrame._set_item\u001b[1;34m(self, key, value)\u001b[0m\n\u001b[0;32m   4133\u001b[0m \u001b[38;5;28;01mdef\u001b[39;00m \u001b[38;5;21m_set_item\u001b[39m(\u001b[38;5;28mself\u001b[39m, key, value) \u001b[38;5;241m-\u001b[39m\u001b[38;5;241m>\u001b[39m \u001b[38;5;28;01mNone\u001b[39;00m:\n\u001b[0;32m   4134\u001b[0m \u001b[38;5;250m    \u001b[39m\u001b[38;5;124;03m\"\"\"\u001b[39;00m\n\u001b[0;32m   4135\u001b[0m \u001b[38;5;124;03m    Add series to DataFrame in specified column.\u001b[39;00m\n\u001b[0;32m   4136\u001b[0m \n\u001b[1;32m   (...)\u001b[0m\n\u001b[0;32m   4141\u001b[0m \u001b[38;5;124;03m    ensure homogeneity.\u001b[39;00m\n\u001b[0;32m   4142\u001b[0m \u001b[38;5;124;03m    \"\"\"\u001b[39;00m\n\u001b[1;32m-> 4143\u001b[0m     value \u001b[38;5;241m=\u001b[39m \u001b[38;5;28mself\u001b[39m\u001b[38;5;241m.\u001b[39m_sanitize_column(value)\n\u001b[0;32m   4145\u001b[0m     \u001b[38;5;28;01mif\u001b[39;00m (\n\u001b[0;32m   4146\u001b[0m         key \u001b[38;5;129;01min\u001b[39;00m \u001b[38;5;28mself\u001b[39m\u001b[38;5;241m.\u001b[39mcolumns\n\u001b[0;32m   4147\u001b[0m         \u001b[38;5;129;01mand\u001b[39;00m value\u001b[38;5;241m.\u001b[39mndim \u001b[38;5;241m==\u001b[39m \u001b[38;5;241m1\u001b[39m\n\u001b[0;32m   4148\u001b[0m         \u001b[38;5;129;01mand\u001b[39;00m \u001b[38;5;129;01mnot\u001b[39;00m is_extension_array_dtype(value)\n\u001b[0;32m   4149\u001b[0m     ):\n\u001b[0;32m   4150\u001b[0m         \u001b[38;5;66;03m# broadcast across multiple columns if necessary\u001b[39;00m\n\u001b[0;32m   4151\u001b[0m         \u001b[38;5;28;01mif\u001b[39;00m \u001b[38;5;129;01mnot\u001b[39;00m \u001b[38;5;28mself\u001b[39m\u001b[38;5;241m.\u001b[39mcolumns\u001b[38;5;241m.\u001b[39mis_unique \u001b[38;5;129;01mor\u001b[39;00m \u001b[38;5;28misinstance\u001b[39m(\u001b[38;5;28mself\u001b[39m\u001b[38;5;241m.\u001b[39mcolumns, MultiIndex):\n",
      "File \u001b[1;32m~\\anaconda3\\Lib\\site-packages\\pandas\\core\\frame.py:4870\u001b[0m, in \u001b[0;36mDataFrame._sanitize_column\u001b[1;34m(self, value)\u001b[0m\n\u001b[0;32m   4867\u001b[0m     \u001b[38;5;28;01mreturn\u001b[39;00m _reindex_for_setitem(Series(value), \u001b[38;5;28mself\u001b[39m\u001b[38;5;241m.\u001b[39mindex)\n\u001b[0;32m   4869\u001b[0m \u001b[38;5;28;01mif\u001b[39;00m is_list_like(value):\n\u001b[1;32m-> 4870\u001b[0m     com\u001b[38;5;241m.\u001b[39mrequire_length_match(value, \u001b[38;5;28mself\u001b[39m\u001b[38;5;241m.\u001b[39mindex)\n\u001b[0;32m   4871\u001b[0m \u001b[38;5;28;01mreturn\u001b[39;00m sanitize_array(value, \u001b[38;5;28mself\u001b[39m\u001b[38;5;241m.\u001b[39mindex, copy\u001b[38;5;241m=\u001b[39m\u001b[38;5;28;01mTrue\u001b[39;00m, allow_2d\u001b[38;5;241m=\u001b[39m\u001b[38;5;28;01mTrue\u001b[39;00m)\n",
      "File \u001b[1;32m~\\anaconda3\\Lib\\site-packages\\pandas\\core\\common.py:576\u001b[0m, in \u001b[0;36mrequire_length_match\u001b[1;34m(data, index)\u001b[0m\n\u001b[0;32m    572\u001b[0m \u001b[38;5;250m\u001b[39m\u001b[38;5;124;03m\"\"\"\u001b[39;00m\n\u001b[0;32m    573\u001b[0m \u001b[38;5;124;03mCheck the length of data matches the length of the index.\u001b[39;00m\n\u001b[0;32m    574\u001b[0m \u001b[38;5;124;03m\"\"\"\u001b[39;00m\n\u001b[0;32m    575\u001b[0m \u001b[38;5;28;01mif\u001b[39;00m \u001b[38;5;28mlen\u001b[39m(data) \u001b[38;5;241m!=\u001b[39m \u001b[38;5;28mlen\u001b[39m(index):\n\u001b[1;32m--> 576\u001b[0m     \u001b[38;5;28;01mraise\u001b[39;00m \u001b[38;5;167;01mValueError\u001b[39;00m(\n\u001b[0;32m    577\u001b[0m         \u001b[38;5;124m\"\u001b[39m\u001b[38;5;124mLength of values \u001b[39m\u001b[38;5;124m\"\u001b[39m\n\u001b[0;32m    578\u001b[0m         \u001b[38;5;124mf\u001b[39m\u001b[38;5;124m\"\u001b[39m\u001b[38;5;124m(\u001b[39m\u001b[38;5;132;01m{\u001b[39;00m\u001b[38;5;28mlen\u001b[39m(data)\u001b[38;5;132;01m}\u001b[39;00m\u001b[38;5;124m) \u001b[39m\u001b[38;5;124m\"\u001b[39m\n\u001b[0;32m    579\u001b[0m         \u001b[38;5;124m\"\u001b[39m\u001b[38;5;124mdoes not match length of index \u001b[39m\u001b[38;5;124m\"\u001b[39m\n\u001b[0;32m    580\u001b[0m         \u001b[38;5;124mf\u001b[39m\u001b[38;5;124m\"\u001b[39m\u001b[38;5;124m(\u001b[39m\u001b[38;5;132;01m{\u001b[39;00m\u001b[38;5;28mlen\u001b[39m(index)\u001b[38;5;132;01m}\u001b[39;00m\u001b[38;5;124m)\u001b[39m\u001b[38;5;124m\"\u001b[39m\n\u001b[0;32m    581\u001b[0m     )\n",
      "\u001b[1;31mValueError\u001b[0m: Length of values (33) does not match length of index (40)"
     ]
    }
   ],
   "source": [
    "Sneakers_df=pd.DataFrame({})\n",
    "Sneakers_df['Brand']= Brand[0:100]\n",
    "Sneakers_df['Product_name']=Product_name[0:100]\n",
    "Sneakers_df['Price']= Price[0:100]\n",
    "Sneakers_df"
   ]
  },
  {
   "cell_type": "markdown",
   "id": "8e80a16b",
   "metadata": {},
   "source": [
    "# Q.6 Write e python program to scrap data for 1000 Quotes of all time.The task will be done in \n",
    "   following steps:\n",
    "    1.first get webpage https://www.azquotes.com\n",
    "    2.click on top quote\n",
    "    3.then scrap a)quote,b)author,c)type of quote."
   ]
  },
  {
   "cell_type": "code",
   "execution_count": 11,
   "id": "211d266a",
   "metadata": {},
   "outputs": [
    {
     "name": "stdout",
     "output_type": "stream",
     "text": [
      "Requirement already satisfied: selenium in c:\\users\\kailashkumar\\anaconda3\\lib\\site-packages (4.21.0)\n",
      "Requirement already satisfied: urllib3[socks]<3,>=1.26 in c:\\users\\kailashkumar\\anaconda3\\lib\\site-packages (from selenium) (1.26.16)\n",
      "Requirement already satisfied: trio~=0.17 in c:\\users\\kailashkumar\\anaconda3\\lib\\site-packages (from selenium) (0.25.1)\n",
      "Requirement already satisfied: trio-websocket~=0.9 in c:\\users\\kailashkumar\\anaconda3\\lib\\site-packages (from selenium) (0.11.1)\n",
      "Requirement already satisfied: certifi>=2021.10.8 in c:\\users\\kailashkumar\\anaconda3\\lib\\site-packages (from selenium) (2023.7.22)\n",
      "Requirement already satisfied: typing_extensions>=4.9.0 in c:\\users\\kailashkumar\\anaconda3\\lib\\site-packages (from selenium) (4.12.0)\n",
      "Requirement already satisfied: attrs>=23.2.0 in c:\\users\\kailashkumar\\anaconda3\\lib\\site-packages (from trio~=0.17->selenium) (23.2.0)\n",
      "Requirement already satisfied: sortedcontainers in c:\\users\\kailashkumar\\anaconda3\\lib\\site-packages (from trio~=0.17->selenium) (2.4.0)\n",
      "Requirement already satisfied: idna in c:\\users\\kailashkumar\\anaconda3\\lib\\site-packages (from trio~=0.17->selenium) (3.4)\n",
      "Requirement already satisfied: outcome in c:\\users\\kailashkumar\\anaconda3\\lib\\site-packages (from trio~=0.17->selenium) (1.3.0.post0)\n",
      "Requirement already satisfied: sniffio>=1.3.0 in c:\\users\\kailashkumar\\anaconda3\\lib\\site-packages (from trio~=0.17->selenium) (1.3.1)\n",
      "Requirement already satisfied: cffi>=1.14 in c:\\users\\kailashkumar\\anaconda3\\lib\\site-packages (from trio~=0.17->selenium) (1.15.1)\n",
      "Requirement already satisfied: wsproto>=0.14 in c:\\users\\kailashkumar\\anaconda3\\lib\\site-packages (from trio-websocket~=0.9->selenium) (1.2.0)\n",
      "Requirement already satisfied: PySocks!=1.5.7,<2.0,>=1.5.6 in c:\\users\\kailashkumar\\anaconda3\\lib\\site-packages (from urllib3[socks]<3,>=1.26->selenium) (1.7.1)\n",
      "Requirement already satisfied: pycparser in c:\\users\\kailashkumar\\anaconda3\\lib\\site-packages (from cffi>=1.14->trio~=0.17->selenium) (2.21)\n",
      "Requirement already satisfied: h11<1,>=0.9.0 in c:\\users\\kailashkumar\\anaconda3\\lib\\site-packages (from wsproto>=0.14->trio-websocket~=0.9->selenium) (0.14.0)\n"
     ]
    }
   ],
   "source": [
    "!pip install selenium"
   ]
  },
  {
   "cell_type": "code",
   "execution_count": 12,
   "id": "0f720218",
   "metadata": {},
   "outputs": [],
   "source": [
    "import selenium\n",
    "import pandas as pd\n",
    "from selenium import webdriver\n",
    "import warnings\n",
    "warnings.filterwarnings('ignore')\n",
    "from selenium.webdriver.common.by import By\n",
    "import time"
   ]
  },
  {
   "cell_type": "code",
   "execution_count": 13,
   "id": "aaa2153a",
   "metadata": {},
   "outputs": [],
   "source": [
    "driver=webdriver.Chrome()"
   ]
  },
  {
   "cell_type": "code",
   "execution_count": 16,
   "id": "6194e2dd",
   "metadata": {},
   "outputs": [],
   "source": [
    "driver.get('https://www.azquotes.com/')"
   ]
  },
  {
   "cell_type": "code",
   "execution_count": 17,
   "id": "3cf09bb6",
   "metadata": {},
   "outputs": [],
   "source": [
    "search_bar = driver.find_element(By.CLASS_NAME,\"front\")\n",
    "search_bar.send_keys('Top Quote')"
   ]
  },
  {
   "cell_type": "code",
   "execution_count": 19,
   "id": "b024a4e7",
   "metadata": {},
   "outputs": [
    {
     "data": {
      "text/plain": [
       "['Change your thoughts and you change your world.']"
      ]
     },
     "execution_count": 19,
     "metadata": {},
     "output_type": "execute_result"
    }
   ],
   "source": [
    "Quote_tags=driver.find_elements(By.XPATH,'//a[@class=\"title\"]')\n",
    "for i in Quote_tags:\n",
    "    Quote_tags=[]\n",
    "    Quote_tags.append(i.text)\n",
    "Quote_tags[0:10]"
   ]
  },
  {
   "cell_type": "code",
   "execution_count": 20,
   "id": "049216be",
   "metadata": {},
   "outputs": [
    {
     "data": {
      "text/plain": [
       "['Norman Vincent Peale']"
      ]
     },
     "execution_count": 20,
     "metadata": {},
     "output_type": "execute_result"
    }
   ],
   "source": [
    "Author_Name=driver.find_elements(By.XPATH,'//div[@class=\"author\"]')\n",
    "for i in Author_Name:\n",
    "    Author_Name=[]\n",
    "    Author_Name.append(i.text)\n",
    "Author_Name[0:10]"
   ]
  },
  {
   "cell_type": "code",
   "execution_count": 22,
   "id": "48967712",
   "metadata": {},
   "outputs": [
    {
     "data": {
      "text/plain": [
       "['Inspirational, Motivational, Change']"
      ]
     },
     "execution_count": 22,
     "metadata": {},
     "output_type": "execute_result"
    }
   ],
   "source": [
    "Type_Of_Quote=driver.find_elements(By.XPATH,'//div[@class=\"tags\"]')\n",
    "for i in Type_Of_Quote:\n",
    "    Type_Of_Quote=[]\n",
    "    Type_Of_Quote.append(i.text)\n",
    "Type_Of_Quote[0:10]"
   ]
  },
  {
   "cell_type": "code",
   "execution_count": 23,
   "id": "8066a192",
   "metadata": {},
   "outputs": [
    {
     "name": "stdout",
     "output_type": "stream",
     "text": [
      "1 1 1\n"
     ]
    }
   ],
   "source": [
    "print(len(Quote_tags),len(Author_Name),len(Type_Of_Quote))"
   ]
  },
  {
   "cell_type": "code",
   "execution_count": 24,
   "id": "add80012",
   "metadata": {},
   "outputs": [
    {
     "data": {
      "text/html": [
       "<div>\n",
       "<style scoped>\n",
       "    .dataframe tbody tr th:only-of-type {\n",
       "        vertical-align: middle;\n",
       "    }\n",
       "\n",
       "    .dataframe tbody tr th {\n",
       "        vertical-align: top;\n",
       "    }\n",
       "\n",
       "    .dataframe thead th {\n",
       "        text-align: right;\n",
       "    }\n",
       "</style>\n",
       "<table border=\"1\" class=\"dataframe\">\n",
       "  <thead>\n",
       "    <tr style=\"text-align: right;\">\n",
       "      <th></th>\n",
       "      <th>Quote_tags</th>\n",
       "      <th>Author_Name</th>\n",
       "      <th>Type_Of_Quote</th>\n",
       "    </tr>\n",
       "  </thead>\n",
       "  <tbody>\n",
       "    <tr>\n",
       "      <th>0</th>\n",
       "      <td>Change your thoughts and you change your world.</td>\n",
       "      <td>Norman Vincent Peale</td>\n",
       "      <td>Inspirational, Motivational, Change</td>\n",
       "    </tr>\n",
       "  </tbody>\n",
       "</table>\n",
       "</div>"
      ],
      "text/plain": [
       "                                        Quote_tags           Author_Name  \\\n",
       "0  Change your thoughts and you change your world.  Norman Vincent Peale   \n",
       "\n",
       "                         Type_Of_Quote  \n",
       "0  Inspirational, Motivational, Change  "
      ]
     },
     "execution_count": 24,
     "metadata": {},
     "output_type": "execute_result"
    }
   ],
   "source": [
    "Quote_df=pd.DataFrame({})\n",
    "Quote_df['Quote_tags']=Quote_tags[0:10]\n",
    "Quote_df['Author_Name']=Author_Name[0:10]\n",
    "Quote_df['Type_Of_Quote']=Type_Of_Quote[0:10]\n",
    "Quote_df"
   ]
  },
  {
   "cell_type": "code",
   "execution_count": null,
   "id": "5d03b8f5",
   "metadata": {},
   "outputs": [],
   "source": []
  }
 ],
 "metadata": {
  "kernelspec": {
   "display_name": "Python 3 (ipykernel)",
   "language": "python",
   "name": "python3"
  },
  "language_info": {
   "codemirror_mode": {
    "name": "ipython",
    "version": 3
   },
   "file_extension": ".py",
   "mimetype": "text/x-python",
   "name": "python",
   "nbconvert_exporter": "python",
   "pygments_lexer": "ipython3",
   "version": "3.11.5"
  }
 },
 "nbformat": 4,
 "nbformat_minor": 5
}
